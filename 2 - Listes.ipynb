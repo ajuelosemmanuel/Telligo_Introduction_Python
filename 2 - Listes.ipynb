{
 "cells": [
  {
   "cell_type": "markdown",
   "metadata": {},
   "source": [
    "# Les listes\r\n",
    "\r\n",
    "Pour stocker plusieurs données dans une seule variable, plusieurs options sont possibles en Python. Une des plus utilisées est la liste.\r\n",
    "\r\n",
    "Une liste fonctionne un peu comme un tableau d'une seule ligne, qui peut contenir n'importe quel type de variable ou de donnée, et autant que vous voulez.\r\n",
    "\r\n",
    "On initialise une liste comme ceci :"
   ]
  },
  {
   "cell_type": "code",
   "execution_count": null,
   "metadata": {},
   "outputs": [],
   "source": [
    "ma_liste = []"
   ]
  },
  {
   "cell_type": "markdown",
   "metadata": {},
   "source": [
    "On peut ajouter des éléments dedans comme suit :"
   ]
  },
  {
   "cell_type": "code",
   "execution_count": null,
   "metadata": {},
   "outputs": [],
   "source": [
    "ma_liste.append(5)"
   ]
  },
  {
   "cell_type": "markdown",
   "metadata": {},
   "source": [
    "En faisant `liste.append`, vous ajoutez un élément à la fin de celle-ci.\r\n",
    "\r\n",
    "Nous allons ajouter d'autres éléments puis accéder à l'un d'entre eux."
   ]
  },
  {
   "cell_type": "code",
   "execution_count": null,
   "metadata": {},
   "outputs": [],
   "source": [
    "ma_liste.append(1)\r\n",
    "ma_liste.append(6)\r\n",
    "ma_liste.append(\"oui\")\r\n",
    "ma_liste.append(\"a\")\r\n",
    "ma_liste.append(7.5)\r\n",
    "\r\n",
    "print(ma_liste[3])"
   ]
  },
  {
   "cell_type": "markdown",
   "metadata": {},
   "source": [
    "Essayer d'accéder à un élément qui n'est pas dans la liste (en faisant `liste[i]`, i plus grand que la taille de la liste) entraînera une erreur.\r\n",
    "\r\n",
    "Parce que vous devez vous demander comment on connait la taille d'une liste, voici la commande :"
   ]
  },
  {
   "cell_type": "code",
   "execution_count": null,
   "metadata": {},
   "outputs": [],
   "source": [
    "len(ma_liste)"
   ]
  },
  {
   "cell_type": "markdown",
   "metadata": {},
   "source": [
    "Pour vérifier si vous avez bien compris, voici un petit exercice :\r\n",
    "\r\n",
    "Il faut compléter le code ci-dessous pour que :\r\n",
    "+ la liste \"chiffres\" contienne les chiffres de 1 à 4\r\n",
    "+ la liste \"noms\" contienne les chaînes de caractères suivantes : \"Lovelace\", \"Hamilton\", \"Van Rossum\" et \"Ritchie\" (dans cet ordre)"
   ]
  },
  {
   "cell_type": "code",
   "execution_count": null,
   "metadata": {},
   "outputs": [],
   "source": [
    "# Changez le code ici\r\n",
    "chiffres = None\r\n",
    "noms = None\r\n",
    "\r\n",
    "# Ne pas changer le code ci-dessous, il sert à tester le vôtre\r\n",
    "if chiffres == [x for x in range(1,5)] :\r\n",
    "    print(\"Chiffres : OK\")\r\n",
    "else :\r\n",
    "    raise BaseException(\"Vérifie ce qu'il y a dans la liste \\\"chiffres\\\".\")\r\n",
    "if noms == [\"Lovelace\", \"Hamilton\", \"Van Rossum\", \"Ritchie\"] :\r\n",
    "    print(\"Noms : OK\")\r\n",
    "else :\r\n",
    "    raise BaseException(\"Vérifie ce qu'il y a dans la liste \\\"noms\\\".\")\r\n",
    "\r\n",
    "print(\"Parfait ! Vous pouvez passer au fichier suivant, qui portera sur les opérateurs.\")"
   ]
  }
 ],
 "metadata": {
  "interpreter": {
   "hash": "dcacb0086e9a4f4eabd41c33bf4faac5ea0a3337ed3f5eff0680afa930572c04"
  },
  "kernelspec": {
   "display_name": "Python 3.9.1 64-bit",
   "name": "python3"
  },
  "language_info": {
   "name": "python",
   "version": ""
  },
  "orig_nbformat": 4
 },
 "nbformat": 4,
 "nbformat_minor": 2
}