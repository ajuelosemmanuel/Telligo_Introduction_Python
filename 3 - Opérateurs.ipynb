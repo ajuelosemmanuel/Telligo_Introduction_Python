{
 "cells": [
  {
   "cell_type": "markdown",
   "metadata": {},
   "source": [
    "# Les opérateurs\r\n",
    "\r\n",
    "Maintenant que nous avons vu quelques types de données et les listes, nous allons passer aux opérateurs, c'est à dire `+`, `*`, etc.\r\n",
    "\r\n",
    "## Les opérateurs arithmétiques\r\n",
    "\r\n",
    "Comme dans à peu près tout langage, on peut utiliser l'addition, la soustraction, etc avec des nombres :"
   ]
  },
  {
   "cell_type": "code",
   "execution_count": null,
   "metadata": {},
   "outputs": [],
   "source": [
    "nombre = 1 + 2.0 * 3 / 4\r\n",
    "print(nombre)"
   ]
  },
  {
   "cell_type": "markdown",
   "metadata": {},
   "source": [
    "Au vu du résultat, vous pouvez constater que python suit un ordre précis dans les opérations.\r\n",
    "\r\n",
    "Un autre opérateur sur les nombres est le modulo `%` qui renvoie le reste de la division euclidienne d'un nombre par un autre :"
   ]
  },
  {
   "cell_type": "code",
   "execution_count": null,
   "metadata": {},
   "outputs": [],
   "source": [
    "print(37 % 3)"
   ]
  },
  {
   "cell_type": "markdown",
   "metadata": {},
   "source": [
    "On peut aussi mettre un nombre à la puissance en utilisant deux fois le signe multiplier :"
   ]
  },
  {
   "cell_type": "code",
   "execution_count": null,
   "metadata": {},
   "outputs": [],
   "source": [
    "print(7**2)"
   ]
  },
  {
   "cell_type": "markdown",
   "metadata": {},
   "source": [
    "## Opérateurs et chaînes de caratères\r\n",
    "\r\n",
    "Il est aussi possible d'utiliser les opérateurs avec les chaînes de caratères pour :\r\n",
    "+ Concaténer (\"coller\") deux chaînes de caratères, en utilisant `+`\r\n",
    "+ Répéter une chaîne un certain nombre de fois avec `*`"
   ]
  },
  {
   "cell_type": "code",
   "execution_count": null,
   "metadata": {},
   "outputs": [],
   "source": [
    "print(\"je\" + \" \" + \"suis\" + \" en train de taper\")\r\n",
    "\r\n",
    "print(\"Je ne me répète pas.\" * 5)"
   ]
  },
  {
   "cell_type": "markdown",
   "metadata": {},
   "source": [
    "## Opérateurs et listes\r\n",
    "\r\n",
    "On peut joindre deux listes avec l'opérateur \"+\" et, comme avec les listes, on peut répéter une séquence avec `*`."
   ]
  },
  {
   "cell_type": "code",
   "execution_count": null,
   "metadata": {},
   "outputs": [],
   "source": [
    "pairs = [2, 4, 6, 8]\r\n",
    "impairs = [1, 3, 5, 7]\r\n",
    "les_deux = pairs + impairs\r\n",
    "print(les_deux)\r\n",
    "\r\n",
    "print([1,2,3] * 3)"
   ]
  },
  {
   "cell_type": "markdown",
   "metadata": {},
   "source": [
    "Pour finir, comme d'habitude, un petit test :\r\n",
    "\r\n",
    "Votre objectif est de créer deux listes `three_list` et `pattern_list` qui contiennent respectivement 10 fois `3` et 10 fois `\"abc\"` en utilisant les opérateurs, puis de créer la liste `grande_liste` qui est la concaténation des deux précédentes."
   ]
  },
  {
   "cell_type": "code",
   "execution_count": null,
   "metadata": {},
   "outputs": [],
   "source": [
    "# Changez le code ici\r\n",
    "three_list = None\r\n",
    "pattern_list = None\r\n",
    "\r\n",
    "# Ne pas changer le code ci-dessous, il sert à tester le vôtre\r\n",
    "if three_list == [3 for x in range(10)] :\r\n",
    "    print(\"three_list : OK\")\r\n",
    "else :\r\n",
    "    raise BaseException(\"Vérifie ce qu'il y a dans la liste \\\"3_list\\\".\")\r\n",
    "if pattern_list == [\"abc\", \"abc\", \"abc\", \"abc\", \"abc\", \"abc\", \"abc\", \"abc\", \"abc\", \"abc\"] :\r\n",
    "    print(\"pattern_list : OK\")\r\n",
    "else :\r\n",
    "    raise BaseException(\"Vérifie ce qu'il y a dans la liste \\\"pattern_list : OK\\\".\")\r\n",
    "\r\n",
    "print(\"Parfait ! Vous pouvez passer au fichier suivant, qui portera sur les opérateurs.\")"
   ]
  }
 ],
 "metadata": {
  "interpreter": {
   "hash": "dcacb0086e9a4f4eabd41c33bf4faac5ea0a3337ed3f5eff0680afa930572c04"
  },
  "kernelspec": {
   "display_name": "Python 3.9.1 64-bit",
   "name": "python3"
  },
  "language_info": {
   "codemirror_mode": {
    "name": "ipython",
    "version": 3
   },
   "file_extension": ".py",
   "mimetype": "text/x-python",
   "name": "python",
   "nbconvert_exporter": "python",
   "pygments_lexer": "ipython3",
   "version": "3.9.1"
  },
  "orig_nbformat": 4
 },
 "nbformat": 4,
 "nbformat_minor": 2
}