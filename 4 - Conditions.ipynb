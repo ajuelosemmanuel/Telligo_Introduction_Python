{
 "cells": [
  {
   "cell_type": "markdown",
   "metadata": {},
   "source": [
    "# Les Conditions\r\n",
    "\r\n",
    "En Python, on utilise la [logique de Boole](https://fr.wikipedia.org/wiki/Alg%C3%A8bre_de_Boole_(logique)) pour évaluer les conditions. Cela permet par exemple de comparer deux valeurs puis de \"prendre une décision\". La comparaison de deux valeurs renvoie soit `True` (vrai), soit `False` (faux). Par exemple :"
   ]
  },
  {
   "cell_type": "code",
   "execution_count": null,
   "metadata": {},
   "outputs": [],
   "source": [
    "x = 2\r\n",
    "print(x == 2)   # Vrai\r\n",
    "print(x != 2)   # Faux\r\n",
    "print(x == 3)   # Faux\r\n",
    "print(x < 3)    # Vrai"
   ]
  },
  {
   "cell_type": "markdown",
   "metadata": {},
   "source": [
    "## D'autres opérateurs booléens\r\n",
    "\r\n",
    "On peut aussi chercher si deux conditions sont remplies, ou même si au moins une des deux l'est. C'est pour cela qu'il existe les opérateurs `and` (et) et `or` (ou)? Voici un exemple :"
   ]
  },
  {
   "cell_type": "code",
   "execution_count": null,
   "metadata": {},
   "outputs": [],
   "source": [
    "colo = \"Dev Info\"\r\n",
    "annee = 2021\r\n",
    "\r\n",
    "if colo == \"Dev Info\" and annee == 2021:\r\n",
    "    print(\"Un anim s'appelle Manu !\")\r\n",
    "\r\n",
    "if annee == 2021 or annee == -480:\r\n",
    "    print(\"De deux choses l'une : soit nous sommes en colo à Montauban, soit les spartiates se battent aux Thermopyles...\")"
   ]
  },
  {
   "cell_type": "markdown",
   "metadata": {},
   "source": [
    "## Opérateur \"in\"\r\n",
    "\r\n",
    "Pour vérifier si un élément appartient à une liste (ou à un autre objet qui peut contenir plusieurs informations... à regarder [ici](https://zestedesavoir.com/tutoriels/954/notions-de-python-avancees/1-starters/2-iterables/) si vous êtes curieux ;) ), on utilise l'opérateur `in`. Celui-ci renvoie `True` si l'élément est dans la liste, et `False` sinon."
   ]
  },
  {
   "cell_type": "code",
   "execution_count": null,
   "metadata": {},
   "outputs": [],
   "source": [
    "anim = \"Plasma\"\r\n",
    "animsPython = [\"Akeno\", \"Manu\", \"Plasma\", \"Dexes\"]\r\n",
    "\r\n",
    "if anim in animsPython :\r\n",
    "    print(\"Un anim Python dans un atelier Python ? Bizarre...\")"
   ]
  },
  {
   "cell_type": "markdown",
   "metadata": {},
   "source": [
    "## Opérateur \"not\"\r\n",
    "\r\n",
    "Cet opérateur, comme vous pouvez le deviner, va renvoyer la négation d'une expression booléenne ! Je pense qu'un exemple n'est pas forcément utile, passons alors à l'exercice !"
   ]
  },
  {
   "cell_type": "code",
   "execution_count": null,
   "metadata": {},
   "outputs": [],
   "source": [
    "# Changez les valeurs ici\r\n",
    "x = 10\r\n",
    "y = 10\r\n",
    "liste_1 = []\r\n",
    "liste_2 = [1,2,3]\r\n",
    "\r\n",
    "# Ne pas changer le code ci-dessous, c'est l'énoncé\r\n",
    "if x > 15:\r\n",
    "    print(\"1\")\r\n",
    "\r\n",
    "if liste_1:\r\n",
    "    print(\"2\")\r\n",
    "\r\n",
    "if len(liste_2) == 2:\r\n",
    "    print(\"3\")\r\n",
    "\r\n",
    "if len(liste_1) + len(liste_2) == 5:\r\n",
    "    print(\"4\")\r\n",
    "\r\n",
    "if liste_1 and liste_1[0] == 1:\r\n",
    "    print(\"5\")\r\n",
    "\r\n",
    "if not y:\r\n",
    "    print(\"6\")"
   ]
  }
 ],
 "metadata": {
  "interpreter": {
   "hash": "dcacb0086e9a4f4eabd41c33bf4faac5ea0a3337ed3f5eff0680afa930572c04"
  },
  "kernelspec": {
   "display_name": "Python 3.9.1 64-bit",
   "name": "python3"
  },
  "language_info": {
   "codemirror_mode": {
    "name": "ipython",
    "version": 3
   },
   "file_extension": ".py",
   "mimetype": "text/x-python",
   "name": "python",
   "nbconvert_exporter": "python",
   "pygments_lexer": "ipython3",
   "version": "3.9.1"
  },
  "orig_nbformat": 4
 },
 "nbformat": 4,
 "nbformat_minor": 2
}